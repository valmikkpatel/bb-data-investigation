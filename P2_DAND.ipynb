{
 "cells": [
  {
   "cell_type": "markdown",
   "metadata": {},
   "source": [
    "<h1>P2: Investigate a Dataset</h1>"
   ]
  },
  {
   "cell_type": "markdown",
   "metadata": {},
   "source": [
    "For this project I have chosen the baseball dataset. The question that I will be working on is \"How are baseball players with the highest salaries different from other players in terms of performance indicators?\""
   ]
  },
  {
   "cell_type": "markdown",
   "metadata": {},
   "source": [
    "The approach that will be followed is a follows:\n",
    "<ul>\n",
    "<li>First, we will look at the salaries data independently and analyse over time.</li>\n",
    "<li>Then we will define what constitutes \"highest salaries\".</li>\n",
    "<li>Next we will explore one important batting, pitching and fielding performance indicator each and compare players with \"highest salaries\" to other players based on that.</li>\n",
    "<li>Finally conclusions will be drawn based on these explorations</li>\n",
    "</ul>\n",
    "\n",
    "Based on the above approach the relevant tables to be used from the Sean Lahman database are Salaries table, Batting table, Pitching table and Fielding table."
   ]
  },
  {
   "cell_type": "markdown",
   "metadata": {},
   "source": [
    "To start with we will import the salaries table into a Pandas dataframe."
   ]
  },
  {
   "cell_type": "code",
   "execution_count": 1,
   "metadata": {
    "collapsed": false
   },
   "outputs": [],
   "source": [
    "import pandas as pd\n",
    "salaries_df = pd.read_csv(\"~/Desktop/Salaries.csv\") #importing the csv file with salaries data into Pandas dataframe"
   ]
  },
  {
   "cell_type": "code",
   "execution_count": 2,
   "metadata": {
    "collapsed": false
   },
   "outputs": [
    {
     "name": "stdout",
     "output_type": "stream",
     "text": [
      "   yearID teamID lgID   playerID  salary\n",
      "0    1985    ATL   NL  barkele01  870000\n",
      "1    1985    ATL   NL  bedrost01  550000\n",
      "2    1985    ATL   NL  benedbr01  545000\n",
      "3    1985    ATL   NL   campri01  633333\n",
      "4    1985    ATL   NL  ceronri01  625000\n"
     ]
    }
   ],
   "source": [
    "print salaries_df.head() #checking out the data to verify successful import"
   ]
  },
  {
   "cell_type": "markdown",
   "metadata": {},
   "source": [
    "Now we will investigate the data to make sure that there are no problems with it before using the data."
   ]
  },
  {
   "cell_type": "code",
   "execution_count": 3,
   "metadata": {
    "collapsed": false,
    "scrolled": true
   },
   "outputs": [
    {
     "name": "stdout",
     "output_type": "stream",
     "text": [
      "yearID       int64\n",
      "teamID      object\n",
      "lgID        object\n",
      "playerID    object\n",
      "salary       int64\n",
      "dtype: object\n",
      "\n",
      "The total number of entries in the table is 24758.\n",
      "\n",
      "The total number of unique players in the table is 4826.\n",
      "\n",
      "The maximum and minimum salaries in the table are 33000000 and 0 respectively.\n"
     ]
    }
   ],
   "source": [
    "print salaries_df.dtypes #checking the variable types in the table\n",
    "print \"\\nThe total number of entries in the table is %s.\" %len(salaries_df['playerID'])\n",
    "print \"\\nThe total number of unique players in the table is %s.\" %salaries_df['playerID'].nunique()\n",
    "print \"\\nThe maximum and minimum salaries in the table are %s and %s respectively.\" %(salaries_df['salary'].max()\n",
    "                                                                                      ,salaries_df['salary'].min())"
   ]
  },
  {
   "cell_type": "markdown",
   "metadata": {},
   "source": [
    "The data types in the dataframe are proper. The column on which we are going to perform mathematical operations is salary and it is already of 'int' data type. So there is no need to change data types in the table.\n",
    "\n",
    "The total number of entries in the table and the total number of unique players in the table are different as expected since the data is for multiple years and there will be different entries for the same player for different yesrs.\n",
    "\n",
    "The maximum salary is logical. But the minimum salary of 0 is surprising. Although it is entirely possible because of salary arbitration, we will need to check the number of such occurences. If the number of occurences with 0 salary are very high then this could point to faulty data."
   ]
  },
  {
   "cell_type": "code",
   "execution_count": 4,
   "metadata": {
    "collapsed": false
   },
   "outputs": [
    {
     "name": "stdout",
     "output_type": "stream",
     "text": [
      "2\n"
     ]
    }
   ],
   "source": [
    "print (salaries_df['salary'] == 0).sum() #counting number of times salary is 0"
   ]
  },
  {
   "cell_type": "markdown",
   "metadata": {},
   "source": [
    "Since there are only two occurences of the salary being 0, we can assume that the data is without any error and go ahead with the analysis.\n",
    "\n",
    "To start off, we will first compare the average salaries of players over years."
   ]
  },
  {
   "cell_type": "code",
   "execution_count": 6,
   "metadata": {
    "collapsed": false
   },
   "outputs": [
    {
     "name": "stdout",
     "output_type": "stream",
     "text": [
      "Populating the interactive namespace from numpy and matplotlib\n"
     ]
    },
    {
     "data": {
      "text/plain": [
       "<matplotlib.text.Text at 0x10bde78d0>"
      ]
     },
     "execution_count": 6,
     "metadata": {},
     "output_type": "execute_result"
    },
    {
     "data": {
      "image/png": "[encoded data removed]",
      "text/plain": [
       "<matplotlib.figure.Figure at 0x1060067d0>"
      ]
     },
     "metadata": {},
     "output_type": "display_data"
    }
   ],
   "source": [
    "salaries_grouped_by_year = salaries_df.groupby('yearID') #grouping the table by year\n",
    "mean_salaries_by_year = salaries_grouped_by_year['salary'].mean() #calculating the mean salary year-wise\n",
    "\n",
    "import matplotlib.pyplot as plt\n",
    "import seaborn as sns \n",
    "%pylab inline\n",
    "\n",
    "ax = mean_salaries_by_year.plot(title = \"Average salary across years\") \n",
    "ax.set_ylabel(\"Salary in USD\")\n",
    "ax.set_xlabel(\"Year\")"
   ]
  },
  {
   "cell_type": "markdown",
   "metadata": {},
   "source": [
    "It can be seen from the above plot that the average salary has increased steadily from \\$500000 in 1985 to \\$4000000 in 2014. This can be attributed to the growing economy and the deacreasing value of money. For our analysis we can't directly use the salary to find the attributes of highest earning players. We would need to standardise the salary across each year to allow us to perform our analysis effectively. "
   ]
  },
  {
   "cell_type": "code",
   "execution_count": 7,
   "metadata": {
    "collapsed": false
   },
   "outputs": [
    {
     "name": "stdout",
     "output_type": "stream",
     "text": [
      "   yearID teamID lgID   playerID  salary_std\n",
      "0    1985    ATL   NL  barkele01    1.147786\n",
      "1    1985    ATL   NL  bedrost01    0.214865\n",
      "2    1985    ATL   NL  benedbr01    0.200288\n",
      "3    1985    ATL   NL   campri01    0.457812\n",
      "4    1985    ATL   NL  ceronri01    0.433518\n"
     ]
    }
   ],
   "source": [
    "standard = lambda x: (x - x.mean()) / x.std(ddof=0) #lambda function to standardize\n",
    "\n",
    "standardised_salaries = salaries_grouped_by_year.transform(standard) #standardizing salaries across years\n",
    "\n",
    "salaries_df['salary'] = standardised_salaries #replacing salary in the original table by standardised salaries. This can be directly done as the indexes haven't changed.\n",
    "\n",
    "salaries_df.rename(columns = {'salary':'salary_std'},inplace = True) #renaming salary column to salary_std to reflect standardised salaries\n",
    "\n",
    "print salaries_df.head()\n",
    "\n"
   ]
  },
  {
   "cell_type": "markdown",
   "metadata": {},
   "source": [
    "Now we will get to defining which player will fall under the category of player with highest salaries. Each player will have different values of standardised salary for different years. So to find out players with highest salaries over their careers we will have to find the average value of the standardised salaries for each player across the years they have played."
   ]
  },
  {
   "cell_type": "code",
   "execution_count": 8,
   "metadata": {
    "collapsed": false
   },
   "outputs": [
    {
     "name": "stdout",
     "output_type": "stream",
     "text": [
      "playerID\n",
      "aardsda01   -0.440360\n",
      "aasedo01     0.299539\n",
      "abadan01    -0.664054\n",
      "abadfe01    -0.647104\n",
      "abbotje01   -0.644517\n",
      "Name: salary_std, dtype: float64\n"
     ]
    }
   ],
   "source": [
    "standardised_salaries_grouped_by_player = salaries_df.groupby('playerID') #grouping the standardised salary data by players\n",
    "mean_standardised_salaries_by_player = standardised_salaries_grouped_by_player['salary_std'].mean() #taking mean across years for each player\n",
    "\n",
    "print mean_standardised_salaries_by_player.head()"
   ]
  },
  {
   "cell_type": "markdown",
   "metadata": {},
   "source": [
    "Let us assume players having average standardised salary greater than 1 over their career to be players with the highest salaries for the purpose of this analysis."
   ]
  },
  {
   "cell_type": "code",
   "execution_count": 9,
   "metadata": {
    "collapsed": false
   },
   "outputs": [
    {
     "name": "stdout",
     "output_type": "stream",
     "text": [
      "231\n"
     ]
    }
   ],
   "source": [
    "print (mean_standardised_salaries_by_player >= 1).sum() #counting number of  players with average standardised salaries greater thean 1"
   ]
  },
  {
   "cell_type": "markdown",
   "metadata": {},
   "source": [
    "231 out of a total of 4826 players have average standardised salaries greater than one over their careers which amounts to roughly 4.78%. Thus according to our assumption top 4.78% of the players according to average standardised salaries come into the category of the players with the highest salaries.\n",
    "\n",
    "Now we will divide the players into two groups. Highest salary players and other players."
   ]
  },
  {
   "cell_type": "code",
   "execution_count": 10,
   "metadata": {
    "collapsed": false
   },
   "outputs": [
    {
     "name": "stdout",
     "output_type": "stream",
     "text": [
      "    playerID  salary_std\n",
      "0  aardsda01   -0.440360\n",
      "1   aasedo01    0.299539\n",
      "2   abadan01   -0.664054\n",
      "3   abadfe01   -0.647104\n",
      "4  abbotje01   -0.644517\n"
     ]
    }
   ],
   "source": [
    "#converting pandas series to a pandas dataframe\n",
    "mean_std_salaries_by_players_df = pd.DataFrame({'playerID':mean_standardised_salaries_by_player.index,'salary_std':mean_standardised_salaries_by_player.values})\n",
    "print mean_std_salaries_by_players_df.head()"
   ]
  },
  {
   "cell_type": "code",
   "execution_count": 11,
   "metadata": {
    "collapsed": false
   },
   "outputs": [],
   "source": [
    "#indexes of players with salary_std greater than one\n",
    "index_greater = mean_std_salaries_by_players_df[mean_std_salaries_by_players_df['salary_std'] >= 1].index.tolist()\n",
    "\n",
    "#indexes of players with salary_std less than one\n",
    "index_less = mean_std_salaries_by_players_df[mean_std_salaries_by_players_df['salary_std'] < 1].index.tolist()"
   ]
  },
  {
   "cell_type": "code",
   "execution_count": 12,
   "metadata": {
    "collapsed": false
   },
   "outputs": [
    {
     "name": "stdout",
     "output_type": "stream",
     "text": [
      "    playerID  salary_std\n",
      "0  abreubo01    1.317249\n",
      "1  alomaro01    1.746711\n",
      "2   aloumo01    1.011307\n",
      "3  andujjo01    1.453056\n",
      "4  appieke01    1.273718\n",
      "\n",
      "\n",
      "    playerID  salary_std\n",
      "0  aardsda01   -0.440360\n",
      "1   aasedo01    0.299539\n",
      "2   abadan01   -0.664054\n",
      "3   abadfe01   -0.647104\n",
      "4  abbotje01   -0.644517\n"
     ]
    }
   ],
   "source": [
    "#making the list of players with the highest salaries\n",
    "highest_salaries_players = mean_std_salaries_by_players_df.loc[index_greater]\n",
    "highest_salaries_players = highest_salaries_players.reset_index(drop = True) # resetting index\n",
    "print highest_salaries_players.head()\n",
    "\n",
    "#making list of other players\n",
    "other_players = mean_std_salaries_by_players_df.loc[index_less]\n",
    "other_players = other_players.reset_index(drop = True) #resetting index\n",
    "print \"\\n\"\n",
    "print other_players.head()\n",
    "\n"
   ]
  },
  {
   "cell_type": "markdown",
   "metadata": {},
   "source": [
    "Now that we have divided the players into two categories, the next step is to look at the batting, pitching and fielding performance indicators to be compared. We will select one performance indicator each for batting, pitching and fielding to analyze and draw conclusions on."
   ]
  },
  {
   "cell_type": "markdown",
   "metadata": {
    "collapsed": true
   },
   "source": [
    "The steps involved in this will be as follows\n",
    "<ul>\n",
    "<li>Importing the table in to a pandas dataframe.\n",
    "<li>Decide the performance indicator to be analyzed.\n",
    "<li>Checking the datapoints that will be needed to calculate the selected performance indicator for consistency.\n",
    "<li>Calculating the required performance indicator.\n",
    "<li>Importing the final value of the performance indicator into the three salary tables i.e highest_salaries_players,other_players and mean_standardised_salaries_by_player.\n",
    "</ul>"
   ]
  },
  {
   "cell_type": "markdown",
   "metadata": {},
   "source": [
    "We will start with the batting performance indicator. The first step is to import the batting table into a pandas dataframe."
   ]
  },
  {
   "cell_type": "code",
   "execution_count": 13,
   "metadata": {
    "collapsed": true
   },
   "outputs": [],
   "source": [
    "import pandas as pd\n",
    "batting_df = pd.read_csv(\"~/Desktop/Batting.csv\") #importing the csv file with batting data into Pandas dataframe"
   ]
  },
  {
   "cell_type": "code",
   "execution_count": 14,
   "metadata": {
    "collapsed": false
   },
   "outputs": [
    {
     "name": "stdout",
     "output_type": "stream",
     "text": [
      "        playerID  yearID  stint teamID lgID    G   AB   R    H  2B  ...   RBI  \\\n",
      "99841  zieglbr01    2014      1    ARI   NL   68    1   0    0   0  ...     0   \n",
      "99842  zimmejo02    2014      1    WAS   NL   32   55   3   10   1  ...     1   \n",
      "99843  zimmery01    2014      1    WAS   NL   61  214  26   60  19  ...    38   \n",
      "99844  zobribe01    2014      1    TBA   AL  146  570  83  155  34  ...    52   \n",
      "99845  zuninmi01    2014      1    SEA   AL  131  438  51   87  20  ...    60   \n",
      "\n",
      "       SB  CS  BB   SO  IBB  HBP  SH  SF  GIDP  \n",
      "99841   0   0   0    1    0    0   0   0     0  \n",
      "99842   0   0   2   21    0    0   9   1     0  \n",
      "99843   0   0  22   37    0    0   0   4     6  \n",
      "99844  10   5  75   84    4    1   2   6     8  \n",
      "99845   0   3  17  158    1   17   0   4    12  \n",
      "\n",
      "[5 rows x 22 columns]\n"
     ]
    }
   ],
   "source": [
    "print batting_df.tail() #checking out the data to verify"
   ]
  },
  {
   "cell_type": "markdown",
   "metadata": {},
   "source": [
    "For batting the performance indicator that we will be looking at is the slugging percentage which is defined as the total bases divided by at bats. This performance indicator is not directly available in the batting table so we will have to calculate it using given data. Also the data available in the batting table is yearly. To find the career slugging percentage we will have to add the yearly data of each player.\n",
    "\n",
    "First we will look at the sanctity of the data that we are going to use."
   ]
  },
  {
   "cell_type": "code",
   "execution_count": 15,
   "metadata": {
    "collapsed": false
   },
   "outputs": [
    {
     "data": {
      "text/plain": [
       "count    94697.000000\n",
       "mean       150.576132\n",
       "std        186.671586\n",
       "min          0.000000\n",
       "25%          7.000000\n",
       "50%         58.000000\n",
       "75%        252.000000\n",
       "max        716.000000\n",
       "Name: AB, dtype: float64"
      ]
     },
     "execution_count": 15,
     "metadata": {},
     "output_type": "execute_result"
    }
   ],
   "source": [
    "batting_df['AB'].describe()"
   ]
  },
  {
   "cell_type": "code",
   "execution_count": 16,
   "metadata": {
    "collapsed": false
   },
   "outputs": [
    {
     "data": {
      "text/plain": [
       "count    94697.000000\n",
       "mean        39.433108\n",
       "std         53.379504\n",
       "min          0.000000\n",
       "25%          1.000000\n",
       "50%         11.000000\n",
       "75%         64.000000\n",
       "max        262.000000\n",
       "Name: H, dtype: float64"
      ]
     },
     "execution_count": 16,
     "metadata": {},
     "output_type": "execute_result"
    }
   ],
   "source": [
    "batting_df['H'].describe()"
   ]
  },
  {
   "cell_type": "code",
   "execution_count": 17,
   "metadata": {
    "collapsed": false
   },
   "outputs": [
    {
     "data": {
      "text/plain": [
       "count    94697.000000\n",
       "mean         6.654181\n",
       "std          9.804776\n",
       "min          0.000000\n",
       "25%          0.000000\n",
       "50%          2.000000\n",
       "75%         10.000000\n",
       "max         67.000000\n",
       "Name: 2B, dtype: float64"
      ]
     },
     "execution_count": 17,
     "metadata": {},
     "output_type": "execute_result"
    }
   ],
   "source": [
    "batting_df['2B'].describe()"
   ]
  },
  {
   "cell_type": "code",
   "execution_count": 18,
   "metadata": {
    "collapsed": false
   },
   "outputs": [
    {
     "data": {
      "text/plain": [
       "count    94697.000000\n",
       "mean         1.384996\n",
       "std          2.723249\n",
       "min          0.000000\n",
       "25%          0.000000\n",
       "50%          0.000000\n",
       "75%          2.000000\n",
       "max         36.000000\n",
       "Name: 3B, dtype: float64"
      ]
     },
     "execution_count": 18,
     "metadata": {},
     "output_type": "execute_result"
    }
   ],
   "source": [
    "batting_df['3B'].describe()"
   ]
  },
  {
   "cell_type": "code",
   "execution_count": 19,
   "metadata": {
    "collapsed": false
   },
   "outputs": [
    {
     "data": {
      "text/plain": [
       "count    94697.000000\n",
       "mean         2.943747\n",
       "std          6.402116\n",
       "min          0.000000\n",
       "25%          0.000000\n",
       "50%          0.000000\n",
       "75%          3.000000\n",
       "max         73.000000\n",
       "Name: HR, dtype: float64"
      ]
     },
     "execution_count": 19,
     "metadata": {},
     "output_type": "execute_result"
    }
   ],
   "source": [
    "batting_df['HR'].describe()"
   ]
  },
  {
   "cell_type": "markdown",
   "metadata": {},
   "source": [
    "The statistics for all the data points that are going to be used are as expected. There is nothing out of ordinary abobut them. So we can assume that the required data in the batting table is proper and there is no need of data cleaning.\n",
    "\n",
    "We will move on to calculating the slugging percentage now."
   ]
  },
  {
   "cell_type": "code",
   "execution_count": 20,
   "metadata": {
    "collapsed": true
   },
   "outputs": [],
   "source": [
    "batting_grouped_by_player = batting_df.groupby('playerID') #grouping data by players"
   ]
  },
  {
   "cell_type": "code",
   "execution_count": 21,
   "metadata": {
    "collapsed": false
   },
   "outputs": [
    {
     "name": "stdout",
     "output_type": "stream",
     "text": [
      "playerID\n",
      "aardsda01    0.000000\n",
      "aaronha01    0.673973\n",
      "aaronto01    0.391949\n",
      "aasedo01     0.000000\n",
      "abadan01     0.095238\n",
      "dtype: float64\n"
     ]
    }
   ],
   "source": [
    "#finding overall values of required data points\n",
    "overall_hits = batting_grouped_by_player['H'].sum() \n",
    "overall_doubles = batting_grouped_by_player['2B'].sum()\n",
    "overall_triples = batting_grouped_by_player['3B'].sum()\n",
    "overall_homeruns = batting_grouped_by_player['HR'].sum()\n",
    "overall_atbats = batting_grouped_by_player['AB'].sum()\n",
    "\n",
    "#calculating slugging percentage\n",
    "slugging_percentage = (overall_hits+(2*overall_doubles)+(3*overall_triples)+(4*overall_homeruns))/overall_atbats\n",
    "\n",
    "print slugging_percentage.head()"
   ]
  },
  {
   "cell_type": "code",
   "execution_count": 22,
   "metadata": {
    "collapsed": false
   },
   "outputs": [
    {
     "name": "stdout",
     "output_type": "stream",
     "text": [
      "    playerID  slugging_percentage\n",
      "0  aardsda01             0.000000\n",
      "1  aaronha01             0.673973\n",
      "2  aaronto01             0.391949\n",
      "3   aasedo01             0.000000\n",
      "4   abadan01             0.095238\n"
     ]
    }
   ],
   "source": [
    "#converting pandas series to a pandas dataframe\n",
    "slugging_percentage_df = pd.DataFrame({'playerID':slugging_percentage.index,'slugging_percentage':slugging_percentage.values})\n",
    "print slugging_percentage_df.head()"
   ]
  },
  {
   "cell_type": "markdown",
   "metadata": {},
   "source": [
    "There can be some players for whom the number of at bats is 0. For these players the value of slugging percentage will be NaN since we will be dividing by 0. "
   ]
  },
  {
   "cell_type": "markdown",
   "metadata": {},
   "source": [
    "Now we will add the slugging percentage data to the tables containing salaries data i.e. the highest salaries table, other players table and the table containing salary data for all players."
   ]
  },
  {
   "cell_type": "code",
   "execution_count": 23,
   "metadata": {
    "collapsed": false
   },
   "outputs": [
    {
     "name": "stdout",
     "output_type": "stream",
     "text": [
      "    playerID  salary_std  slugging_percentage\n",
      "0  aardsda01   -0.440360             0.000000\n",
      "1   aasedo01    0.299539             0.000000\n",
      "2   abadan01   -0.664054             0.095238\n",
      "3   abadfe01   -0.647104             0.125000\n",
      "4  abbotje01   -0.644517             0.505034\n",
      "\n",
      "\n",
      "    playerID  salary_std  slugging_percentage\n",
      "0  abreubo01    1.317249             0.583373\n",
      "1  alomaro01    1.746711             0.530365\n",
      "2   aloumo01    1.011307             0.628251\n",
      "3  andujjo01    1.453056             0.209226\n",
      "4  appieke01    1.273718             0.096386\n",
      "\n",
      "\n",
      "    playerID  salary_std  slugging_percentage\n",
      "0  aardsda01   -0.440360             0.000000\n",
      "1   aasedo01    0.299539             0.000000\n",
      "2   abadan01   -0.664054             0.095238\n",
      "3   abadfe01   -0.647104             0.125000\n",
      "4  abbotje01   -0.644517             0.505034\n"
     ]
    }
   ],
   "source": [
    "#writing a function for this operation since this is going to be used again during pitching and fielding performance indicator\n",
    "\n",
    "def merge_with_salary_tables(performance_indicator):\n",
    "    merged_salary_table = mean_std_salaries_by_players_df.merge(performance_indicator,on='playerID',how='inner')\n",
    "    merged_highest_salary_table = highest_salaries_players.merge(performance_indicator,on='playerID',how='inner')\n",
    "    merged_other_players = other_players.merge(performance_indicator,on='playerID',how='inner')\n",
    "    \n",
    "    return (merged_salary_table,merged_highest_salary_table,merged_other_players)\n",
    "\n",
    "mean_std_salaries_by_players_df,highest_salaries_players,other_players = merge_with_salary_tables(slugging_percentage_df)\n",
    "\n",
    "#printing results to confirm if the function is working as desired\n",
    "print mean_std_salaries_by_players_df.head()\n",
    "print \"\\n\"\n",
    "print highest_salaries_players.head()\n",
    "print \"\\n\"\n",
    "print other_players.head()"
   ]
  },
  {
   "cell_type": "markdown",
   "metadata": {},
   "source": [
    "It can be seen that the function worked correctly. \n",
    "\n",
    "Now we will move on to the pitching performance indicator."
   ]
  },
  {
   "cell_type": "code",
   "execution_count": 24,
   "metadata": {
    "collapsed": true
   },
   "outputs": [],
   "source": [
    "import pandas as pd\n",
    "pitching_df = pd.read_csv(\"~/Desktop/Pitching.csv\") #importing the csv file with batting data into Pandas dataframe"
   ]
  },
  {
   "cell_type": "code",
   "execution_count": 25,
   "metadata": {
    "collapsed": false
   },
   "outputs": [
    {
     "name": "stdout",
     "output_type": "stream",
     "text": [
      "        playerID  yearID  stint teamID lgID   W  L   G  GS  CG  ...   IBB  WP  \\\n",
      "43325  yateski01    2014      1    TBA   AL   0  2  37   0   0  ...     3   2   \n",
      "43326  youngch03    2014      1    SEA   AL  12  9  30  29   0  ...     3   5   \n",
      "43327   zeidjo01    2014      1    HOU   AL   0  0  23   0   0  ...     1   1   \n",
      "43328  zieglbr01    2014      1    ARI   NL   5  3  68   0   0  ...     6   0   \n",
      "43329  zimmejo02    2014      1    WAS   NL  14  5  32  32   3  ...     0   4   \n",
      "\n",
      "       HBP  BK  BFP  GF   R  SH  SF  GIDP  \n",
      "43325    3   0  156  12  16   0   1     2  \n",
      "43326    3   1  688   0  70   4   9     6  \n",
      "43327    1   0   98   6  18   1   2     1  \n",
      "43328    3   0  281  11  29   2   4     9  \n",
      "43329    6   0  800   0  67   5   3    11  \n",
      "\n",
      "[5 rows x 30 columns]\n"
     ]
    }
   ],
   "source": [
    "print pitching_df.tail()"
   ]
  },
  {
   "cell_type": "markdown",
   "metadata": {},
   "source": [
    "For pitching, the performance indicator that we will be looking at is ERA or the earned runs average. ERA is the mean of earned runs given up by a pitcher per nine innings pitched. The values of ERA is already available in the table for each year. But we need to find the average value of ERA over the career for each player. To do that we would need to multiply ERA by games played, sum it across year and divide by the total number of games played over career.\n",
    "\n",
    "First we will look at the sanctity of the data we are going to use."
   ]
  },
  {
   "cell_type": "code",
   "execution_count": 26,
   "metadata": {
    "collapsed": false
   },
   "outputs": [
    {
     "data": {
      "text/plain": [
       "count    43330.000000\n",
       "mean         9.618786\n",
       "std         12.340553\n",
       "min          0.000000\n",
       "25%          0.000000\n",
       "50%          3.000000\n",
       "75%         18.000000\n",
       "max         75.000000\n",
       "Name: GS, dtype: float64"
      ]
     },
     "execution_count": 26,
     "metadata": {},
     "output_type": "execute_result"
    }
   ],
   "source": [
    "pitching_df['GS'].describe()"
   ]
  },
  {
   "cell_type": "code",
   "execution_count": 27,
   "metadata": {
    "collapsed": false
   },
   "outputs": [
    {
     "data": {
      "text/plain": [
       "count    43241.000000\n",
       "mean         5.073577\n",
       "std          5.335081\n",
       "min          0.000000\n",
       "25%          3.150000\n",
       "50%          4.130000\n",
       "75%          5.500000\n",
       "max        189.000000\n",
       "Name: ERA, dtype: float64"
      ]
     },
     "execution_count": 27,
     "metadata": {},
     "output_type": "execute_result"
    }
   ],
   "source": [
    "pitching_df['ERA'].describe()"
   ]
  },
  {
   "cell_type": "markdown",
   "metadata": {},
   "source": [
    "The statistics for all the data points that are going to be used are as expected except the maximum value of ERA. \n",
    "\n",
    "We will now check out that value."
   ]
  },
  {
   "cell_type": "code",
   "execution_count": 28,
   "metadata": {
    "collapsed": false
   },
   "outputs": [
    {
     "name": "stdout",
     "output_type": "stream",
     "text": [
      "playerID    scheija01\n",
      "yearID           1894\n",
      "stint               1\n",
      "teamID            PHI\n",
      "lgID               NL\n",
      "W                   0\n",
      "L                   1\n",
      "G                   1\n",
      "GS                  1\n",
      "CG                  0\n",
      "SHO                 0\n",
      "SV                  0\n",
      "IPouts              1\n",
      "H                   6\n",
      "ER                  7\n",
      "HR                  0\n",
      "BB                  2\n",
      "SO                  0\n",
      "BAOpp            0.86\n",
      "ERA               189\n",
      "IBB               NaN\n",
      "WP                  0\n",
      "HBP                 0\n",
      "BK                  0\n",
      "BFP                 0\n",
      "GF                  0\n",
      "R                  10\n",
      "SH                NaN\n",
      "SF                NaN\n",
      "GIDP              NaN\n",
      "Name: 2014, dtype: object\n"
     ]
    }
   ],
   "source": [
    "print pitching_df.loc[pitching_df['ERA'].argmax()] #getting the entry for the player with the maximum ERA"
   ]
  },
  {
   "cell_type": "markdown",
   "metadata": {},
   "source": [
    "Since this player played only one match in the 1894 season, the high value of ERA is not out of ordinary. And since our salary data only starts from 1985, this entry is anyways not going to be part of our analysis. So we can assume that our pitching data is correct and no data cleaning is required. \n",
    "\n",
    "We can go ahead with the calculating the career ERA now."
   ]
  },
  {
   "cell_type": "code",
   "execution_count": 29,
   "metadata": {
    "collapsed": false
   },
   "outputs": [],
   "source": [
    "#calculating ERA * Games Gtarted which is required to calculate career ERA\n",
    "pitching_df['ERA*GS'] = pitching_df['ERA']*pitching_df['GS'] "
   ]
  },
  {
   "cell_type": "code",
   "execution_count": 30,
   "metadata": {
    "collapsed": true
   },
   "outputs": [],
   "source": [
    "pitching_grouped_by_player = pitching_df.groupby('playerID') #grouping data by players"
   ]
  },
  {
   "cell_type": "code",
   "execution_count": 31,
   "metadata": {
    "collapsed": false
   },
   "outputs": [
    {
     "name": "stdout",
     "output_type": "stream",
     "text": [
      "playerID\n",
      "aardsda01         NaN\n",
      "aasedo01     4.146923\n",
      "abadfe01     5.090000\n",
      "abbeybe01    4.511061\n",
      "abbeych01         NaN\n",
      "dtype: float64\n"
     ]
    }
   ],
   "source": [
    "ERA = pitching_grouped_by_player['ERA*GS'].sum()/pitching_grouped_by_player['GS'].sum() #calculating career ERA\n",
    "print ERA.head()"
   ]
  },
  {
   "cell_type": "markdown",
   "metadata": {},
   "source": [
    "The NaN values appearing in the code are normal. This is because the games started by some players could be 0 over their career. "
   ]
  },
  {
   "cell_type": "code",
   "execution_count": 32,
   "metadata": {
    "collapsed": false
   },
   "outputs": [
    {
     "name": "stdout",
     "output_type": "stream",
     "text": [
      "        ERA   playerID\n",
      "0       NaN  aardsda01\n",
      "1  4.146923   aasedo01\n",
      "2  5.090000   abadfe01\n",
      "3  4.511061  abbeybe01\n",
      "4       NaN  abbeych01\n"
     ]
    }
   ],
   "source": [
    "#converting pandas series to a pandas dataframe\n",
    "ERA_df = pd.DataFrame({'playerID':ERA.index,'ERA':ERA.values})\n",
    "print ERA_df.head()"
   ]
  },
  {
   "cell_type": "code",
   "execution_count": 33,
   "metadata": {
    "collapsed": true
   },
   "outputs": [],
   "source": [
    "#Using the earlier creates function to merge the ERA data with the three salary tables\n",
    "mean_std_salaries_by_players_df,highest_salaries_players,other_players = merge_with_salary_tables(ERA_df)"
   ]
  },
  {
   "cell_type": "code",
   "execution_count": 34,
   "metadata": {
    "collapsed": false
   },
   "outputs": [
    {
     "name": "stdout",
     "output_type": "stream",
     "text": [
      "    playerID  salary_std  slugging_percentage       ERA\n",
      "0  aardsda01   -0.440360             0.000000       NaN\n",
      "1   aasedo01    0.299539             0.000000  4.146923\n",
      "2   abadfe01   -0.647104             0.125000  5.090000\n",
      "3  abbotji01    0.273227             0.095238  4.329331\n",
      "4  abbotky01   -0.664120             0.161290  5.055000\n",
      "\n",
      "\n",
      "    playerID  salary_std  slugging_percentage       ERA\n",
      "0  andujjo01    1.453056             0.209226  3.625279\n",
      "1  appieke01    1.273718             0.096386  3.863383\n",
      "2  beckejo02    1.309534             0.266436  3.891205\n",
      "3  blylebe01    1.198305             0.161863  3.378117\n",
      "4  boddimi01    1.208597                  NaN  3.816440\n",
      "\n",
      "\n",
      "    playerID  salary_std  slugging_percentage       ERA\n",
      "0  aardsda01   -0.440360             0.000000       NaN\n",
      "1   aasedo01    0.299539             0.000000  4.146923\n",
      "2   abadfe01   -0.647104             0.125000  5.090000\n",
      "3  abbotji01    0.273227             0.095238  4.329331\n",
      "4  abbotky01   -0.664120             0.161290  5.055000\n"
     ]
    }
   ],
   "source": [
    "#printing results to confirm if the function worked as desired\n",
    "print mean_std_salaries_by_players_df.head()\n",
    "print \"\\n\"\n",
    "print highest_salaries_players.head()\n",
    "print \"\\n\"\n",
    "print other_players.head()"
   ]
  },
  {
   "cell_type": "markdown",
   "metadata": {},
   "source": [
    "Now we will move on to the fielding performance indicator."
   ]
  },
  {
   "cell_type": "code",
   "execution_count": 35,
   "metadata": {
    "collapsed": true
   },
   "outputs": [],
   "source": [
    "import pandas as pd\n",
    "fielding_df = pd.read_csv(\"~/Desktop/Fielding.csv\") #importing the csv file with batting data into Pandas dataframe"
   ]
  },
  {
   "cell_type": "code",
   "execution_count": 36,
   "metadata": {
    "collapsed": false
   },
   "outputs": [
    {
     "name": "stdout",
     "output_type": "stream",
     "text": [
      "    playerID  yearID  stint teamID lgID POS   G  GS  InnOuts  PO   A   E  DP  \\\n",
      "0  abercda01    1871      1    TRO  NaN  SS   1 NaN      NaN   1   3   2   0   \n",
      "1   addybo01    1871      1    RC1  NaN  2B  22 NaN      NaN  67  72  42   5   \n",
      "2   addybo01    1871      1    RC1  NaN  SS   3 NaN      NaN   8  14   7   0   \n",
      "3  allisar01    1871      1    CL1  NaN  2B   2 NaN      NaN   1   4   0   0   \n",
      "4  allisar01    1871      1    CL1  NaN  OF  29 NaN      NaN  51   3   7   1   \n",
      "\n",
      "   PB  WP  SB  CS  ZR  \n",
      "0 NaN NaN NaN NaN NaN  \n",
      "1 NaN NaN NaN NaN NaN  \n",
      "2 NaN NaN NaN NaN NaN  \n",
      "3 NaN NaN NaN NaN NaN  \n",
      "4 NaN NaN NaN NaN NaN  \n"
     ]
    }
   ],
   "source": [
    "print fielding_df.head()"
   ]
  },
  {
   "cell_type": "markdown",
   "metadata": {},
   "source": [
    "We will go ahead with the fielding percentage as the performance indicator for fielding. Fielding percentage is defined as the sum of assists and putouts divided by the number of total chances (putouts + assists + errors). To find the career fielding percentage we will have to take the sum of individual data points across years played.\n",
    "\n",
    "First we will look at the sanctity of the data points to be used."
   ]
  },
  {
   "cell_type": "code",
   "execution_count": 37,
   "metadata": {
    "collapsed": false
   },
   "outputs": [
    {
     "data": {
      "text/plain": [
       "count    154477.000000\n",
       "mean         79.614344\n",
       "std         176.567740\n",
       "min           0.000000\n",
       "25%           2.000000\n",
       "50%          10.000000\n",
       "75%          72.000000\n",
       "max        1846.000000\n",
       "Name: PO, dtype: float64"
      ]
     },
     "execution_count": 37,
     "metadata": {},
     "output_type": "execute_result"
    }
   ],
   "source": [
    "fielding_df['PO'].describe()"
   ]
  },
  {
   "cell_type": "code",
   "execution_count": 38,
   "metadata": {
    "collapsed": false
   },
   "outputs": [
    {
     "data": {
      "text/plain": [
       "count    154476.000000\n",
       "mean         30.896126\n",
       "std          75.108578\n",
       "min           0.000000\n",
       "25%           1.000000\n",
       "50%           5.000000\n",
       "75%          22.000000\n",
       "max         641.000000\n",
       "Name: A, dtype: float64"
      ]
     },
     "execution_count": 38,
     "metadata": {},
     "output_type": "execute_result"
    }
   ],
   "source": [
    "fielding_df['A'].describe()"
   ]
  },
  {
   "cell_type": "code",
   "execution_count": 39,
   "metadata": {
    "collapsed": false
   },
   "outputs": [
    {
     "data": {
      "text/plain": [
       "count    154475.000000\n",
       "mean          3.537712\n",
       "std           7.570629\n",
       "min           0.000000\n",
       "25%           0.000000\n",
       "50%           1.000000\n",
       "75%           3.000000\n",
       "max         119.000000\n",
       "Name: E, dtype: float64"
      ]
     },
     "execution_count": 39,
     "metadata": {},
     "output_type": "execute_result"
    }
   ],
   "source": [
    "fielding_df['E'].describe()"
   ]
  },
  {
   "cell_type": "markdown",
   "metadata": {},
   "source": [
    "The statistics for all the data points that are going to be used are as expected. There is nothing out of ordinary abobut them. So we can assume that the required data in the fielding table is proper and there is no need of data cleaning.\n",
    "\n",
    "We will move on to calculating the fielding percentage now."
   ]
  },
  {
   "cell_type": "code",
   "execution_count": 40,
   "metadata": {
    "collapsed": true
   },
   "outputs": [],
   "source": [
    "fielding_grouped_by_player = fielding_df.groupby('playerID') #grouping data by players"
   ]
  },
  {
   "cell_type": "code",
   "execution_count": 41,
   "metadata": {
    "collapsed": false
   },
   "outputs": [
    {
     "name": "stdout",
     "output_type": "stream",
     "text": [
      "playerID\n",
      "zupcibo01    0.976699\n",
      "zupofr01     0.941176\n",
      "zuvelpa01    0.967376\n",
      "zuverge01    0.964467\n",
      "zwilldu01    0.969400\n",
      "dtype: float64\n"
     ]
    }
   ],
   "source": [
    "#finding overall values of required parameters\n",
    "overall_putouts = fielding_grouped_by_player['PO'].sum() \n",
    "overall_assists = fielding_grouped_by_player['A'].sum()\n",
    "overall_errors = fielding_grouped_by_player['E'].sum()\n",
    "\n",
    "#calculating fielding percentage\n",
    "fielding_percentage = (overall_putouts + overall_assists)/(overall_putouts + overall_assists + overall_errors)\n",
    "print fielding_percentage.tail()"
   ]
  },
  {
   "cell_type": "code",
   "execution_count": 42,
   "metadata": {
    "collapsed": false
   },
   "outputs": [
    {
     "name": "stdout",
     "output_type": "stream",
     "text": [
      "   fielding_percentage   playerID\n",
      "0             0.951220  aardsda01\n",
      "1             0.981275  aaronha01\n",
      "2             0.980523  aaronto01\n",
      "3             0.939535   aasedo01\n",
      "4             0.974359   abadan01\n"
     ]
    }
   ],
   "source": [
    "#converting pandas series to a pandas dataframe\n",
    "fielding_percentage_df = pd.DataFrame({'playerID':fielding_percentage.index,'fielding_percentage':fielding_percentage.values})\n",
    "print fielding_percentage_df.head()"
   ]
  },
  {
   "cell_type": "code",
   "execution_count": 43,
   "metadata": {
    "collapsed": true
   },
   "outputs": [],
   "source": [
    "#Using the earlier creates function to merge the fielding percentage data with the three salary tables\n",
    "mean_std_salaries_by_players_df,highest_salaries_players,other_players = merge_with_salary_tables(fielding_percentage_df)"
   ]
  },
  {
   "cell_type": "code",
   "execution_count": 44,
   "metadata": {
    "collapsed": false
   },
   "outputs": [
    {
     "name": "stdout",
     "output_type": "stream",
     "text": [
      "    playerID  salary_std  slugging_percentage       ERA  fielding_percentage\n",
      "0  aardsda01   -0.440360             0.000000       NaN             0.951220\n",
      "1   aasedo01    0.299539             0.000000  4.146923             0.939535\n",
      "2   abadfe01   -0.647104             0.125000  5.090000             0.933333\n",
      "3  abbotji01    0.273227             0.095238  4.329331             0.976378\n",
      "4  abbotky01   -0.664120             0.161290  5.055000             0.968750\n",
      "\n",
      "\n",
      "    playerID  salary_std  slugging_percentage       ERA  fielding_percentage\n",
      "0  andujjo01    1.453056             0.209226  3.625279             0.914692\n",
      "1  appieke01    1.273718             0.096386  3.863383             0.972665\n",
      "2  beckejo02    1.309534             0.266436  3.891205             0.948925\n",
      "3  blylebe01    1.198305             0.161863  3.378117             0.969356\n",
      "4  boddimi01    1.208597                  NaN  3.816440             0.950233\n",
      "\n",
      "\n",
      "    playerID  salary_std  slugging_percentage       ERA  fielding_percentage\n",
      "0  aardsda01   -0.440360             0.000000       NaN             0.951220\n",
      "1   aasedo01    0.299539             0.000000  4.146923             0.939535\n",
      "2   abadfe01   -0.647104             0.125000  5.090000             0.933333\n",
      "3  abbotji01    0.273227             0.095238  4.329331             0.976378\n",
      "4  abbotky01   -0.664120             0.161290  5.055000             0.968750\n"
     ]
    }
   ],
   "source": [
    "#printing results to confirm if the function worked as desired\n",
    "print mean_std_salaries_by_players_df.head()\n",
    "print \"\\n\"\n",
    "print highest_salaries_players.head()\n",
    "print \"\\n\"\n",
    "print other_players.head()"
   ]
  },
  {
   "cell_type": "markdown",
   "metadata": {},
   "source": [
    "Now we have our data cleaned and combined in one table. We can easily perform analysis on this data and draw conclusions. "
   ]
  },
  {
   "cell_type": "markdown",
   "metadata": {},
   "source": [
    "The steps that will be followed are as follows:\n",
    "\n",
    "<ul>\n",
    "<li>First we will do a primary analysis of the performance indicator which will involve making a scatter plot of performance indicator vs standardised salary and comparing mean value of performance indicator for all players, highest salary players and other players.\n",
    "<li>Based on the primary analysis we will draw inferences on the characteristics of the highest paid players with respect to the performance indicator in question.\n",
    "<li>Then we will use hypothesis testing to draw rigorous conclusions about the performance indicator.\n",
    "</ul>\n",
    "\n",
    "This exercise will be repeated for all three performance indicators."
   ]
  },
  {
   "cell_type": "code",
   "execution_count": 47,
   "metadata": {
    "collapsed": false
   },
   "outputs": [],
   "source": [
    "#defining a function to conduct primary analysis as above\n",
    "def primary_analysis(performance_indicator):\n",
    "    plt.title(\"Scatter plot of %s vs Standardised Salary\" %performance_indicator)\n",
    "    plt.xlabel(\"Standardised Salary\")\n",
    "    plt.ylabel(performance_indicator)\n",
    "    plt.scatter(mean_std_salaries_by_players_df['salary_std'],mean_std_salaries_by_players_df[performance_indicator],marker = '.',s=5)\n",
    "    print \"The mean %s of all players is %s\" %(performance_indicator,mean_std_salaries_by_players_df[performance_indicator].mean())\n",
    "    print \"The mean %s of highest salary players is %s\" %(performance_indicator,highest_salaries_players[performance_indicator].mean())\n",
    "    print \"The mean %s of other players is %s\" %(performance_indicator,other_players[performance_indicator].mean())"
   ]
  },
  {
   "cell_type": "code",
   "execution_count": 48,
   "metadata": {
    "collapsed": false
   },
   "outputs": [
    {
     "name": "stdout",
     "output_type": "stream",
     "text": [
      "The mean slugging_percentage of all players is 0.181954246078\n",
      "The mean slugging_percentage of highest salary players is 0.241782889717\n",
      "The mean slugging_percentage of other players is 0.179398751249\n"
     ]
    },
    {
     "data": {
      "image/png": "[encoded data removed]",
      "text/plain": [
       "<matplotlib.figure.Figure at 0x10c71fed0>"
      ]
     },
     "metadata": {},
     "output_type": "display_data"
    }
   ],
   "source": [
    "#primary analysis of slugging percentage\n",
    "primary_analysis('slugging_percentage') "
   ]
  },
  {
   "cell_type": "markdown",
   "metadata": {},
   "source": [
    "From the above data we can observe that the mean of slugging percentage is higher for players with highest salary as compared to that of other players. Even the scatter plot is dense around lower values of slugging percentage for other players (i.e. standardised salary < 1) as compared to highest salary players. We can infer from the above data that the players with the highest salaries will have higher slugging percentage. But we need to perform a hypothesis test to draw a rigorous conclusion."
   ]
  },
  {
   "cell_type": "markdown",
   "metadata": {},
   "source": [
    "In the hypothesis test we will be comparing mean value of slugging percentage for highest salary players and other players. Our null hypothesis would be that the mean value of slugging percentage for highest salary players is the same as the mean value of slugging percentage of the population of players. Our alternative hypothesis is that these mean values are different from each other. We will be applying the z-test to test the hypothesis since the sample size is greater than 30 and we know the population standard deviation."
   ]
  },
  {
   "cell_type": "code",
   "execution_count": 49,
   "metadata": {
    "collapsed": true
   },
   "outputs": [],
   "source": [
    "import scipy.stats as st\n",
    "\n",
    "def hypothesis_test(performance_indicator):\n",
    "    print \"Null Hypothesis: Mean %s of all players = Mean %s of highest salary players\" %(performance_indicator,performance_indicator)\n",
    "    print \"Alternative Hypothesis: Mean %s of all players != Mean %s of highest salary players\" %(performance_indicator,performance_indicator)\n",
    "    \n",
    "    #calculating z-critical values\n",
    "    z_critical_lower = st.norm.ppf(.025) \n",
    "    z_critical_upper = st.norm.ppf(.975)\n",
    "    print \"\\nThe z-critical values for an alpha level of 0.05 for a two-tailed z-test are %s and %s.\" %(z_critical_lower,z_critical_upper)\n",
    "    \n",
    "    #calculating test statistic\n",
    "    z_value = (highest_salaries_players[performance_indicator].mean() - mean_std_salaries_by_players_df[performance_indicator].mean())/mean_std_salaries_by_players_df[performance_indicator].std(ddof=0)\n",
    "    print \"\\nThe value of the test statistic is %s.\" %z_value\n",
    "    \n",
    "    if ((z_value > z_critical_upper) | (z_value < z_critical_lower)):\n",
    "        print \"\\nSince the test statistic lies outside the z-critical values of alpha level 0.05, we reject the null hypothesis.\"\n",
    "    else:\n",
    "        print \"\\nSince the test statistic lies inside the z-critical values of alpha level 0.05, we fail to reject the null hypothesis\"\n",
    "\n",
    "    "
   ]
  },
  {
   "cell_type": "code",
   "execution_count": 50,
   "metadata": {
    "collapsed": false
   },
   "outputs": [
    {
     "name": "stdout",
     "output_type": "stream",
     "text": [
      "Null Hypothesis: Mean slugging_percentage of all players = Mean slugging_percentage of highest salary players\n",
      "Alternative Hypothesis: Mean slugging_percentage of all players != Mean slugging_percentage of highest salary players\n",
      "\n",
      "The z-critical values for an alpha level of 0.05 for a two-tailed z-test are -1.95996398454 and 1.95996398454.\n",
      "\n",
      "The value of the test statistic is 0.257736546308.\n",
      "\n",
      "Since the test statistic lies inside the z-critical values of alpha level 0.05, we fail to reject the null hypothesis\n"
     ]
    }
   ],
   "source": [
    "hypothesis_test('slugging_percentage')"
   ]
  },
  {
   "cell_type": "markdown",
   "metadata": {},
   "source": [
    "Looking at the primary analysis, we believed that the mean slugging percentage is higher for highest salary players. But after performing the hypothesis test, we cannot say that the mean slugging percentage is statistically higher for highest salary players since we failed to reject the null hypothesis."
   ]
  },
  {
   "cell_type": "markdown",
   "metadata": {},
   "source": [
    "Now we will move on to the pitching performance indicator ERA."
   ]
  },
  {
   "cell_type": "code",
   "execution_count": 51,
   "metadata": {
    "collapsed": false
   },
   "outputs": [
    {
     "name": "stdout",
     "output_type": "stream",
     "text": [
      "The mean ERA of all players is 4.97017025624\n",
      "The mean ERA of highest salary players is 3.71990486946\n",
      "The mean ERA of other players is 5.03134532104\n"
     ]
    },
    {
     "data": {
      "image/png": "[encoded data removed]",
      "text/plain": [
       "<matplotlib.figure.Figure at 0x10ca1c5d0>"
      ]
     },
     "metadata": {},
     "output_type": "display_data"
    }
   ],
   "source": [
    "primary_analysis('ERA') "
   ]
  },
  {
   "cell_type": "markdown",
   "metadata": {},
   "source": [
    "From the above data we can observe that the mean of ERA is lower for players with highest salary as compared to that of other players. Even the scatter plot is dense around higher values of ERA for other players (i.e. standardised salary < 1) as compared to highest salary players. We can infer from the above data that the players with the highest salaries will have lower values of ERA. But we need to perform a hypothesis test to draw a rigorous conclusion."
   ]
  },
  {
   "cell_type": "markdown",
   "metadata": {},
   "source": [
    "We can use the earlier defined function to perform the hypothesis test since the conditions are the same for ERA."
   ]
  },
  {
   "cell_type": "code",
   "execution_count": 52,
   "metadata": {
    "collapsed": false
   },
   "outputs": [
    {
     "name": "stdout",
     "output_type": "stream",
     "text": [
      "Null Hypothesis: Mean ERA of all players = Mean ERA of highest salary players\n",
      "Alternative Hypothesis: Mean ERA of all players != Mean ERA of highest salary players\n",
      "\n",
      "The z-critical values for an alpha level of 0.05 for a two-tailed z-test are -1.95996398454 and 1.95996398454.\n",
      "\n",
      "The value of the test statistic is -0.684366138808.\n",
      "\n",
      "Since the test statistic lies inside the z-critical values of alpha level 0.05, we fail to reject the null hypothesis\n"
     ]
    }
   ],
   "source": [
    "hypothesis_test('ERA')"
   ]
  },
  {
   "cell_type": "markdown",
   "metadata": {},
   "source": [
    "Again we fail to reject the null hypothesis. So statistically speaking we cannot say that the ERA is significantly lower for players with the highest salaries."
   ]
  },
  {
   "cell_type": "markdown",
   "metadata": {},
   "source": [
    "We will now move on the fielding performance indicator i.e. fielding_percentage."
   ]
  },
  {
   "cell_type": "code",
   "execution_count": 53,
   "metadata": {
    "collapsed": false
   },
   "outputs": [
    {
     "name": "stdout",
     "output_type": "stream",
     "text": [
      "The mean fielding_percentage of all players is 0.951262775757\n",
      "The mean fielding_percentage of highest salary players is 0.957784021141\n",
      "The mean fielding_percentage of other players is 0.951019893971\n"
     ]
    },
    {
     "data": {
      "image/png": "[encoded data removed]",
      "text/plain": [
       "<matplotlib.figure.Figure at 0x10e304a90>"
      ]
     },
     "metadata": {},
     "output_type": "display_data"
    }
   ],
   "source": [
    "primary_analysis('fielding_percentage') "
   ]
  },
  {
   "cell_type": "markdown",
   "metadata": {},
   "source": [
    "Looking at the above data it seems that the fielding percentage is approximately the same for the highest salary players as compared to other players. We will perform a hypothesis test to check the same. We can use the earlier function since the conditions remain the same."
   ]
  },
  {
   "cell_type": "code",
   "execution_count": 54,
   "metadata": {
    "collapsed": false
   },
   "outputs": [
    {
     "name": "stdout",
     "output_type": "stream",
     "text": [
      "Null Hypothesis: Mean fielding_percentage of all players = Mean fielding_percentage of highest salary players\n",
      "Alternative Hypothesis: Mean fielding_percentage of all players != Mean fielding_percentage of highest salary players\n",
      "\n",
      "The z-critical values for an alpha level of 0.05 for a two-tailed z-test are -1.95996398454 and 1.95996398454.\n",
      "\n",
      "The value of the test statistic is 0.105757134624.\n",
      "\n",
      "Since the test statistic lies inside the z-critical values of alpha level 0.05, we fail to reject the null hypothesis\n"
     ]
    }
   ],
   "source": [
    "hypothesis_test('fielding_percentage')"
   ]
  },
  {
   "cell_type": "markdown",
   "metadata": {},
   "source": [
    "As expected we have failed to reject the null hypothesis. So the fielding percentage of the highest salary players is not different from the fielding percentage of all the players statistically"
   ]
  },
  {
   "cell_type": "markdown",
   "metadata": {},
   "source": [
    "<h2>Conclusion</h2>"
   ]
  },
  {
   "cell_type": "markdown",
   "metadata": {},
   "source": [
    "The question posed for this analysis was \"How are baseball players with the highest salaries different from other players in terms of performance indicators?\"\n",
    "\n",
    "We first analyzed the salary data to define what constitutes \"highest salary players\". Then we divided the players in to highest salary players group and other players group. Next we selected one performance indicator each for batting, pitching and fielding to be analyzed. We then performed a primary analysis to make inferences about each of these performance indicators and followed it up with hypothesis testing to draw rigorous conclusions.\n",
    "\n",
    "We had selected slugging percentage as the batting performance indicator, ERA as the pitching performance indicator and fielding percentage as the fielding performance indicator. For all three indicators we came to a conclusion that the difference between mean value of those indicators for the highest salary players and that of all players is not statistically different despite the fact that we believed mean of slugging percentage and ERA to be different after primary analysis.\n",
    "\n",
    "Thus in terms of our chosen three performance indicators, on an average the players with the highest salaries are no different from other players."
   ]
  },
  {
   "cell_type": "markdown",
   "metadata": {},
   "source": [
    "<h2>References</h2>"
   ]
  },
  {
   "cell_type": "markdown",
   "metadata": {},
   "source": [
    "<ul>\n",
    "<li>http://seanlahman.com/files/database/readme2014.txt\n",
    "<li>https://en.wikipedia.org/wiki/Slugging_percentage\n",
    "<li>http://www.cbssports.com/mlb/eye-on-baseball/21056639/what-is-the-best-pitching-stat\n",
    "<li>http://www.cbssports.com/mlb/eye-on-baseball/21011936/what-is-the-best-offensive-stat-\n",
    "<li>http://www.cbssports.com/mlb/eye-on-baseball/21070004/what-is-the-best-defensive-stat-\n",
    "<li>https://en.wikipedia.org/wiki/Earned_run_average#All-time_career_leaders\n",
    "<li>https://en.wikipedia.org/wiki/Fielding_percentage\n",
    "<li>http://www.statisticshowto.com/when-to-use-a-t-score-vs-z-score/\n",
    "<li>http://www.ibtimes.com/sportsnet/salary-arbitration-what-it-how-it-works-major-league-baseball-705189\n",
    "</ul>"
   ]
  }
 ],
 "metadata": {
  "kernelspec": {
   "display_name": "Python 2",
   "language": "python",
   "name": "python2"
  },
  "language_info": {
   "codemirror_mode": {
    "name": "ipython",
    "version": 2
   },
   "file_extension": ".py",
   "mimetype": "text/x-python",
   "name": "python",
   "nbconvert_exporter": "python",
   "pygments_lexer": "ipython2",
   "version": "2.7.11"
  }
 },
 "nbformat": 4,
 "nbformat_minor": 0
}
